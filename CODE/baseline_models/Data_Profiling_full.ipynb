{
 "cells": [
  {
   "cell_type": "code",
   "execution_count": 1,
   "metadata": {},
   "outputs": [
    {
     "name": "stdout",
     "output_type": "stream",
     "text": [
      "Requirement already satisfied: pandas_profiling in /Users/zhiyang/opt/anaconda3/lib/python3.8/site-packages (3.1.0)\n",
      "Requirement already satisfied: phik>=0.11.1 in /Users/zhiyang/opt/anaconda3/lib/python3.8/site-packages (from pandas_profiling) (0.12.2)\n",
      "Requirement already satisfied: pandas!=1.0.0,!=1.0.1,!=1.0.2,!=1.1.0,>=0.25.3 in /Users/zhiyang/opt/anaconda3/lib/python3.8/site-packages (from pandas_profiling) (1.1.3)\n",
      "Requirement already satisfied: scipy>=1.4.1 in /Users/zhiyang/opt/anaconda3/lib/python3.8/site-packages (from pandas_profiling) (1.5.2)\n",
      "Requirement already satisfied: markupsafe~=2.0.1 in /Users/zhiyang/opt/anaconda3/lib/python3.8/site-packages (from pandas_profiling) (2.0.1)\n",
      "Requirement already satisfied: visions[type_image_path]==0.7.4 in /Users/zhiyang/opt/anaconda3/lib/python3.8/site-packages (from pandas_profiling) (0.7.4)\n",
      "Requirement already satisfied: htmlmin>=0.1.12 in /Users/zhiyang/opt/anaconda3/lib/python3.8/site-packages (from pandas_profiling) (0.1.12)\n",
      "Requirement already satisfied: pydantic>=1.8.1 in /Users/zhiyang/opt/anaconda3/lib/python3.8/site-packages (from pandas_profiling) (1.9.0)\n",
      "Requirement already satisfied: tangled-up-in-unicode==0.1.0 in /Users/zhiyang/opt/anaconda3/lib/python3.8/site-packages (from pandas_profiling) (0.1.0)\n",
      "Requirement already satisfied: matplotlib>=3.2.0 in /Users/zhiyang/opt/anaconda3/lib/python3.8/site-packages (from pandas_profiling) (3.3.2)\n",
      "Requirement already satisfied: tqdm>=4.48.2 in /Users/zhiyang/opt/anaconda3/lib/python3.8/site-packages (from pandas_profiling) (4.50.2)\n",
      "Requirement already satisfied: jinja2>=2.11.1 in /Users/zhiyang/opt/anaconda3/lib/python3.8/site-packages (from pandas_profiling) (2.11.2)\n",
      "Requirement already satisfied: missingno>=0.4.2 in /Users/zhiyang/opt/anaconda3/lib/python3.8/site-packages (from pandas_profiling) (0.5.1)\n",
      "Requirement already satisfied: numpy>=1.16.0 in /Users/zhiyang/opt/anaconda3/lib/python3.8/site-packages (from pandas_profiling) (1.19.2)\n",
      "Requirement already satisfied: seaborn>=0.10.1 in /Users/zhiyang/opt/anaconda3/lib/python3.8/site-packages (from pandas_profiling) (0.11.0)\n",
      "Requirement already satisfied: multimethod>=1.4 in /Users/zhiyang/opt/anaconda3/lib/python3.8/site-packages (from pandas_profiling) (1.8)\n",
      "Requirement already satisfied: requests>=2.24.0 in /Users/zhiyang/opt/anaconda3/lib/python3.8/site-packages (from pandas_profiling) (2.24.0)\n",
      "Requirement already satisfied: joblib~=1.0.1 in /Users/zhiyang/opt/anaconda3/lib/python3.8/site-packages (from pandas_profiling) (1.0.1)\n",
      "Requirement already satisfied: PyYAML>=5.0.0 in /Users/zhiyang/opt/anaconda3/lib/python3.8/site-packages (from pandas_profiling) (5.3.1)\n",
      "Requirement already satisfied: python-dateutil>=2.7.3 in /Users/zhiyang/opt/anaconda3/lib/python3.8/site-packages (from pandas!=1.0.0,!=1.0.1,!=1.0.2,!=1.1.0,>=0.25.3->pandas_profiling) (2.8.1)\n",
      "Requirement already satisfied: pytz>=2017.2 in /Users/zhiyang/opt/anaconda3/lib/python3.8/site-packages (from pandas!=1.0.0,!=1.0.1,!=1.0.2,!=1.1.0,>=0.25.3->pandas_profiling) (2020.1)\n",
      "Requirement already satisfied: networkx>=2.4 in /Users/zhiyang/opt/anaconda3/lib/python3.8/site-packages (from visions[type_image_path]==0.7.4->pandas_profiling) (2.5)\n",
      "Requirement already satisfied: attrs>=19.3.0 in /Users/zhiyang/opt/anaconda3/lib/python3.8/site-packages (from visions[type_image_path]==0.7.4->pandas_profiling) (20.3.0)\n",
      "Requirement already satisfied: Pillow; extra == \"type_image_path\" in /Users/zhiyang/opt/anaconda3/lib/python3.8/site-packages (from visions[type_image_path]==0.7.4->pandas_profiling) (8.0.1)\n",
      "Requirement already satisfied: imagehash; extra == \"type_image_path\" in /Users/zhiyang/opt/anaconda3/lib/python3.8/site-packages (from visions[type_image_path]==0.7.4->pandas_profiling) (4.2.1)\n",
      "Requirement already satisfied: typing-extensions>=3.7.4.3 in /Users/zhiyang/opt/anaconda3/lib/python3.8/site-packages (from pydantic>=1.8.1->pandas_profiling) (3.7.4.3)\n",
      "Requirement already satisfied: pyparsing!=2.0.4,!=2.1.2,!=2.1.6,>=2.0.3 in /Users/zhiyang/opt/anaconda3/lib/python3.8/site-packages (from matplotlib>=3.2.0->pandas_profiling) (2.4.7)\n",
      "Requirement already satisfied: kiwisolver>=1.0.1 in /Users/zhiyang/opt/anaconda3/lib/python3.8/site-packages (from matplotlib>=3.2.0->pandas_profiling) (1.3.0)\n",
      "Requirement already satisfied: certifi>=2020.06.20 in /Users/zhiyang/opt/anaconda3/lib/python3.8/site-packages (from matplotlib>=3.2.0->pandas_profiling) (2020.6.20)\n",
      "Requirement already satisfied: cycler>=0.10 in /Users/zhiyang/opt/anaconda3/lib/python3.8/site-packages (from matplotlib>=3.2.0->pandas_profiling) (0.10.0)\n",
      "Requirement already satisfied: urllib3!=1.25.0,!=1.25.1,<1.26,>=1.21.1 in /Users/zhiyang/opt/anaconda3/lib/python3.8/site-packages (from requests>=2.24.0->pandas_profiling) (1.25.11)\n",
      "Requirement already satisfied: idna<3,>=2.5 in /Users/zhiyang/opt/anaconda3/lib/python3.8/site-packages (from requests>=2.24.0->pandas_profiling) (2.10)\n",
      "Requirement already satisfied: chardet<4,>=3.0.2 in /Users/zhiyang/opt/anaconda3/lib/python3.8/site-packages (from requests>=2.24.0->pandas_profiling) (3.0.4)\n",
      "Requirement already satisfied: six>=1.5 in /Users/zhiyang/opt/anaconda3/lib/python3.8/site-packages (from python-dateutil>=2.7.3->pandas!=1.0.0,!=1.0.1,!=1.0.2,!=1.1.0,>=0.25.3->pandas_profiling) (1.15.0)\n",
      "Requirement already satisfied: decorator>=4.3.0 in /Users/zhiyang/opt/anaconda3/lib/python3.8/site-packages (from networkx>=2.4->visions[type_image_path]==0.7.4->pandas_profiling) (4.4.2)\n",
      "Requirement already satisfied: PyWavelets in /Users/zhiyang/opt/anaconda3/lib/python3.8/site-packages (from imagehash; extra == \"type_image_path\"->visions[type_image_path]==0.7.4->pandas_profiling) (1.1.1)\n"
     ]
    }
   ],
   "source": [
    "!pip install pandas_profiling  \n",
    "from pandas_profiling import ProfileReport\n",
    "import pandas as pd"
   ]
  },
  {
   "cell_type": "code",
   "execution_count": 2,
   "metadata": {},
   "outputs": [
    {
     "data": {
      "application/vnd.jupyter.widget-view+json": {
       "model_id": "c8ef1d4a0c6e42e5915b16fbe31a5d69",
       "version_major": 2,
       "version_minor": 0
      },
      "text/plain": [
       "HBox(children=(HTML(value='Summarize dataset'), FloatProgress(value=0.0, max=5.0), HTML(value='')))"
      ]
     },
     "metadata": {},
     "output_type": "display_data"
    },
    {
     "name": "stderr",
     "output_type": "stream",
     "text": [
      "/Users/zhiyang/opt/anaconda3/lib/python3.8/site-packages/missingno/missingno.py:254: UserWarning: FixedFormatter should only be used together with FixedLocator\n",
      "  ax1.set_xticklabels(\n",
      "/Users/zhiyang/opt/anaconda3/lib/python3.8/site-packages/pandas_profiling/model/missing.py:89: UserWarning: There was an attempt to generate the Count missing values diagrams, but this failed.\n",
      "To hide this warning, disable the calculation\n",
      "(using `df.profile_report(missing_diagrams={\"Count\": False}`)\n",
      "If this is problematic for your use case, please report this as an issue:\n",
      "https://github.com/pandas-profiling/pandas-profiling/issues\n",
      "(include the error message: 'The number of FixedLocator locations (7), usually from a call to set_ticks, does not match the number of ticklabels (61).')\n",
      "  warnings.warn(\n"
     ]
    },
    {
     "name": "stdout",
     "output_type": "stream",
     "text": [
      "\n"
     ]
    },
    {
     "data": {
      "application/vnd.jupyter.widget-view+json": {
       "model_id": "5319a16c918b4286900107ce17d440cd",
       "version_major": 2,
       "version_minor": 0
      },
      "text/plain": [
       "HBox(children=(HTML(value='Generate report structure'), FloatProgress(value=0.0, max=1.0), HTML(value='')))"
      ]
     },
     "metadata": {},
     "output_type": "display_data"
    },
    {
     "name": "stdout",
     "output_type": "stream",
     "text": [
      "\n"
     ]
    },
    {
     "data": {
      "application/vnd.jupyter.widget-view+json": {
       "model_id": "75aaba773ade45909b1e97831314859b",
       "version_major": 2,
       "version_minor": 0
      },
      "text/plain": [
       "HBox(children=(HTML(value='Render HTML'), FloatProgress(value=0.0, max=1.0), HTML(value='')))"
      ]
     },
     "metadata": {},
     "output_type": "display_data"
    },
    {
     "name": "stdout",
     "output_type": "stream",
     "text": [
      "\n"
     ]
    },
    {
     "data": {
      "application/vnd.jupyter.widget-view+json": {
       "model_id": "145bdbe07a2a4ad2a6ed390c301deb6a",
       "version_major": 2,
       "version_minor": 0
      },
      "text/plain": [
       "HBox(children=(HTML(value='Export report to file'), FloatProgress(value=0.0, max=1.0), HTML(value='')))"
      ]
     },
     "metadata": {},
     "output_type": "display_data"
    },
    {
     "name": "stdout",
     "output_type": "stream",
     "text": [
      "\n"
     ]
    }
   ],
   "source": [
    "#data profiling\n",
    "df = pd.read_excel('covid_restaurant_full.xlsx')\n",
    "profile = df.profile_report(title='Full Data Profiling')\n",
    "#export as html file\n",
    "profile.to_file(output_file=\"Full Data Profiling.html\")"
   ]
  },
  {
   "cell_type": "code",
   "execution_count": null,
   "metadata": {},
   "outputs": [],
   "source": []
  }
 ],
 "metadata": {
  "kernelspec": {
   "display_name": "Python 3",
   "language": "python",
   "name": "python3"
  },
  "language_info": {
   "codemirror_mode": {
    "name": "ipython",
    "version": 3
   },
   "file_extension": ".py",
   "mimetype": "text/x-python",
   "name": "python",
   "nbconvert_exporter": "python",
   "pygments_lexer": "ipython3",
   "version": "3.8.5"
  }
 },
 "nbformat": 4,
 "nbformat_minor": 4
}
