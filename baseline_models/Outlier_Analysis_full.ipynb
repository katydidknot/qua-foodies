{
 "cells": [
  {
   "cell_type": "code",
   "execution_count": 1,
   "metadata": {},
   "outputs": [],
   "source": [
    "#outlier detection: https://towardsdatascience.com/detecting-and-treating-outliers-in-python-part-1-4ece5098b755"
   ]
  },
  {
   "cell_type": "code",
   "execution_count": 1,
   "metadata": {},
   "outputs": [],
   "source": [
    "#Load libraries\n",
    "import numpy as np\n",
    "import pandas as pd\n",
    "import seaborn as sns\n",
    "import matplotlib.pyplot as plt\n",
    "from scipy import stats"
   ]
  },
  {
   "cell_type": "code",
   "execution_count": 2,
   "metadata": {},
   "outputs": [
    {
     "data": {
      "text/html": [
       "<div>\n",
       "<style scoped>\n",
       "    .dataframe tbody tr th:only-of-type {\n",
       "        vertical-align: middle;\n",
       "    }\n",
       "\n",
       "    .dataframe tbody tr th {\n",
       "        vertical-align: top;\n",
       "    }\n",
       "\n",
       "    .dataframe thead th {\n",
       "        text-align: right;\n",
       "    }\n",
       "</style>\n",
       "<table border=\"1\" class=\"dataframe\">\n",
       "  <thead>\n",
       "    <tr style=\"text-align: right;\">\n",
       "      <th></th>\n",
       "      <th>rating</th>\n",
       "      <th>price</th>\n",
       "      <th>pickup</th>\n",
       "      <th>delivery</th>\n",
       "      <th>restaurant_reservation</th>\n",
       "      <th>total_restaurants_zip</th>\n",
       "      <th>Total_Reviews_Zip</th>\n",
       "      <th>Average_Rating_Zip</th>\n",
       "      <th>Average_Price_Zip</th>\n",
       "      <th>hotdogs</th>\n",
       "      <th>...</th>\n",
       "      <th>covid_high</th>\n",
       "      <th>covid_low</th>\n",
       "      <th>covid_moderate</th>\n",
       "      <th>covid_substantial</th>\n",
       "      <th>SizeRank</th>\n",
       "      <th>zillow_sfh_sale_price</th>\n",
       "      <th>redfin_sale_price</th>\n",
       "      <th>redfin_days_on_market</th>\n",
       "      <th>redfin_homes_sold</th>\n",
       "      <th>is_closed</th>\n",
       "    </tr>\n",
       "  </thead>\n",
       "  <tbody>\n",
       "    <tr>\n",
       "      <th>0</th>\n",
       "      <td>2.5</td>\n",
       "      <td>1</td>\n",
       "      <td>0</td>\n",
       "      <td>0</td>\n",
       "      <td>0</td>\n",
       "      <td>13</td>\n",
       "      <td>703</td>\n",
       "      <td>3.807692</td>\n",
       "      <td>1.615385</td>\n",
       "      <td>0</td>\n",
       "      <td>...</td>\n",
       "      <td>0</td>\n",
       "      <td>0</td>\n",
       "      <td>1</td>\n",
       "      <td>0</td>\n",
       "      <td>388</td>\n",
       "      <td>335737</td>\n",
       "      <td>363211</td>\n",
       "      <td>39</td>\n",
       "      <td>4780</td>\n",
       "      <td>1</td>\n",
       "    </tr>\n",
       "    <tr>\n",
       "      <th>1</th>\n",
       "      <td>1.5</td>\n",
       "      <td>1</td>\n",
       "      <td>0</td>\n",
       "      <td>1</td>\n",
       "      <td>0</td>\n",
       "      <td>68</td>\n",
       "      <td>5612</td>\n",
       "      <td>3.169118</td>\n",
       "      <td>1.514706</td>\n",
       "      <td>1</td>\n",
       "      <td>...</td>\n",
       "      <td>0</td>\n",
       "      <td>0</td>\n",
       "      <td>0</td>\n",
       "      <td>1</td>\n",
       "      <td>3</td>\n",
       "      <td>461902</td>\n",
       "      <td>472842</td>\n",
       "      <td>26</td>\n",
       "      <td>124537</td>\n",
       "      <td>0</td>\n",
       "    </tr>\n",
       "    <tr>\n",
       "      <th>2</th>\n",
       "      <td>3.0</td>\n",
       "      <td>1</td>\n",
       "      <td>0</td>\n",
       "      <td>0</td>\n",
       "      <td>0</td>\n",
       "      <td>115</td>\n",
       "      <td>14069</td>\n",
       "      <td>3.508696</td>\n",
       "      <td>1.704348</td>\n",
       "      <td>0</td>\n",
       "      <td>...</td>\n",
       "      <td>0</td>\n",
       "      <td>0</td>\n",
       "      <td>1</td>\n",
       "      <td>0</td>\n",
       "      <td>48</td>\n",
       "      <td>393949</td>\n",
       "      <td>386701</td>\n",
       "      <td>30</td>\n",
       "      <td>27870</td>\n",
       "      <td>1</td>\n",
       "    </tr>\n",
       "    <tr>\n",
       "      <th>3</th>\n",
       "      <td>3.0</td>\n",
       "      <td>1</td>\n",
       "      <td>0</td>\n",
       "      <td>0</td>\n",
       "      <td>0</td>\n",
       "      <td>195</td>\n",
       "      <td>28703</td>\n",
       "      <td>3.784615</td>\n",
       "      <td>1.558974</td>\n",
       "      <td>0</td>\n",
       "      <td>...</td>\n",
       "      <td>0</td>\n",
       "      <td>0</td>\n",
       "      <td>1</td>\n",
       "      <td>0</td>\n",
       "      <td>48</td>\n",
       "      <td>393949</td>\n",
       "      <td>386701</td>\n",
       "      <td>30</td>\n",
       "      <td>27870</td>\n",
       "      <td>1</td>\n",
       "    </tr>\n",
       "    <tr>\n",
       "      <th>4</th>\n",
       "      <td>4.0</td>\n",
       "      <td>1</td>\n",
       "      <td>0</td>\n",
       "      <td>0</td>\n",
       "      <td>0</td>\n",
       "      <td>356</td>\n",
       "      <td>39868</td>\n",
       "      <td>3.737360</td>\n",
       "      <td>1.693820</td>\n",
       "      <td>0</td>\n",
       "      <td>...</td>\n",
       "      <td>0</td>\n",
       "      <td>0</td>\n",
       "      <td>0</td>\n",
       "      <td>1</td>\n",
       "      <td>135</td>\n",
       "      <td>389140</td>\n",
       "      <td>369527</td>\n",
       "      <td>49</td>\n",
       "      <td>8227</td>\n",
       "      <td>1</td>\n",
       "    </tr>\n",
       "    <tr>\n",
       "      <th>5</th>\n",
       "      <td>1.5</td>\n",
       "      <td>2</td>\n",
       "      <td>0</td>\n",
       "      <td>0</td>\n",
       "      <td>0</td>\n",
       "      <td>76</td>\n",
       "      <td>7888</td>\n",
       "      <td>3.664474</td>\n",
       "      <td>1.605263</td>\n",
       "      <td>0</td>\n",
       "      <td>...</td>\n",
       "      <td>0</td>\n",
       "      <td>0</td>\n",
       "      <td>1</td>\n",
       "      <td>0</td>\n",
       "      <td>28</td>\n",
       "      <td>190756</td>\n",
       "      <td>167109</td>\n",
       "      <td>31</td>\n",
       "      <td>21865</td>\n",
       "      <td>1</td>\n",
       "    </tr>\n",
       "    <tr>\n",
       "      <th>6</th>\n",
       "      <td>4.0</td>\n",
       "      <td>1</td>\n",
       "      <td>0</td>\n",
       "      <td>0</td>\n",
       "      <td>0</td>\n",
       "      <td>43</td>\n",
       "      <td>1374</td>\n",
       "      <td>3.546512</td>\n",
       "      <td>1.465116</td>\n",
       "      <td>0</td>\n",
       "      <td>...</td>\n",
       "      <td>0</td>\n",
       "      <td>0</td>\n",
       "      <td>1</td>\n",
       "      <td>0</td>\n",
       "      <td>28</td>\n",
       "      <td>190756</td>\n",
       "      <td>167109</td>\n",
       "      <td>31</td>\n",
       "      <td>21865</td>\n",
       "      <td>1</td>\n",
       "    </tr>\n",
       "    <tr>\n",
       "      <th>7</th>\n",
       "      <td>4.0</td>\n",
       "      <td>1</td>\n",
       "      <td>0</td>\n",
       "      <td>0</td>\n",
       "      <td>0</td>\n",
       "      <td>143</td>\n",
       "      <td>14177</td>\n",
       "      <td>3.325175</td>\n",
       "      <td>1.454545</td>\n",
       "      <td>0</td>\n",
       "      <td>...</td>\n",
       "      <td>0</td>\n",
       "      <td>0</td>\n",
       "      <td>0</td>\n",
       "      <td>1</td>\n",
       "      <td>3</td>\n",
       "      <td>461902</td>\n",
       "      <td>472842</td>\n",
       "      <td>26</td>\n",
       "      <td>124537</td>\n",
       "      <td>1</td>\n",
       "    </tr>\n",
       "    <tr>\n",
       "      <th>8</th>\n",
       "      <td>3.5</td>\n",
       "      <td>2</td>\n",
       "      <td>0</td>\n",
       "      <td>0</td>\n",
       "      <td>0</td>\n",
       "      <td>108</td>\n",
       "      <td>5466</td>\n",
       "      <td>3.370370</td>\n",
       "      <td>1.722222</td>\n",
       "      <td>0</td>\n",
       "      <td>...</td>\n",
       "      <td>0</td>\n",
       "      <td>0</td>\n",
       "      <td>1</td>\n",
       "      <td>0</td>\n",
       "      <td>179</td>\n",
       "      <td>203957</td>\n",
       "      <td>170770</td>\n",
       "      <td>63</td>\n",
       "      <td>4602</td>\n",
       "      <td>1</td>\n",
       "    </tr>\n",
       "    <tr>\n",
       "      <th>9</th>\n",
       "      <td>4.0</td>\n",
       "      <td>2</td>\n",
       "      <td>0</td>\n",
       "      <td>0</td>\n",
       "      <td>0</td>\n",
       "      <td>73</td>\n",
       "      <td>10137</td>\n",
       "      <td>3.301370</td>\n",
       "      <td>1.671233</td>\n",
       "      <td>0</td>\n",
       "      <td>...</td>\n",
       "      <td>0</td>\n",
       "      <td>0</td>\n",
       "      <td>0</td>\n",
       "      <td>1</td>\n",
       "      <td>3</td>\n",
       "      <td>461902</td>\n",
       "      <td>472842</td>\n",
       "      <td>26</td>\n",
       "      <td>124537</td>\n",
       "      <td>1</td>\n",
       "    </tr>\n",
       "  </tbody>\n",
       "</table>\n",
       "<p>10 rows × 59 columns</p>\n",
       "</div>"
      ],
      "text/plain": [
       "   rating  price  pickup  delivery  restaurant_reservation  \\\n",
       "0     2.5      1       0         0                       0   \n",
       "1     1.5      1       0         1                       0   \n",
       "2     3.0      1       0         0                       0   \n",
       "3     3.0      1       0         0                       0   \n",
       "4     4.0      1       0         0                       0   \n",
       "5     1.5      2       0         0                       0   \n",
       "6     4.0      1       0         0                       0   \n",
       "7     4.0      1       0         0                       0   \n",
       "8     3.5      2       0         0                       0   \n",
       "9     4.0      2       0         0                       0   \n",
       "\n",
       "   total_restaurants_zip  Total_Reviews_Zip  Average_Rating_Zip  \\\n",
       "0                     13                703            3.807692   \n",
       "1                     68               5612            3.169118   \n",
       "2                    115              14069            3.508696   \n",
       "3                    195              28703            3.784615   \n",
       "4                    356              39868            3.737360   \n",
       "5                     76               7888            3.664474   \n",
       "6                     43               1374            3.546512   \n",
       "7                    143              14177            3.325175   \n",
       "8                    108               5466            3.370370   \n",
       "9                     73              10137            3.301370   \n",
       "\n",
       "   Average_Price_Zip  hotdogs  ...  covid_high  covid_low  covid_moderate  \\\n",
       "0           1.615385        0  ...           0          0               1   \n",
       "1           1.514706        1  ...           0          0               0   \n",
       "2           1.704348        0  ...           0          0               1   \n",
       "3           1.558974        0  ...           0          0               1   \n",
       "4           1.693820        0  ...           0          0               0   \n",
       "5           1.605263        0  ...           0          0               1   \n",
       "6           1.465116        0  ...           0          0               1   \n",
       "7           1.454545        0  ...           0          0               0   \n",
       "8           1.722222        0  ...           0          0               1   \n",
       "9           1.671233        0  ...           0          0               0   \n",
       "\n",
       "   covid_substantial  SizeRank  zillow_sfh_sale_price  redfin_sale_price  \\\n",
       "0                  0       388                 335737             363211   \n",
       "1                  1         3                 461902             472842   \n",
       "2                  0        48                 393949             386701   \n",
       "3                  0        48                 393949             386701   \n",
       "4                  1       135                 389140             369527   \n",
       "5                  0        28                 190756             167109   \n",
       "6                  0        28                 190756             167109   \n",
       "7                  1         3                 461902             472842   \n",
       "8                  0       179                 203957             170770   \n",
       "9                  1         3                 461902             472842   \n",
       "\n",
       "   redfin_days_on_market  redfin_homes_sold  is_closed  \n",
       "0                     39               4780          1  \n",
       "1                     26             124537          0  \n",
       "2                     30              27870          1  \n",
       "3                     30              27870          1  \n",
       "4                     49               8227          1  \n",
       "5                     31              21865          1  \n",
       "6                     31              21865          1  \n",
       "7                     26             124537          1  \n",
       "8                     63               4602          1  \n",
       "9                     26             124537          1  \n",
       "\n",
       "[10 rows x 59 columns]"
      ]
     },
     "execution_count": 2,
     "metadata": {},
     "output_type": "execute_result"
    }
   ],
   "source": [
    "df = pd.read_excel('covid_restaurant_full_post_profiling.xlsx')\n",
    "df.head(10)"
   ]
  },
  {
   "cell_type": "code",
   "execution_count": 4,
   "metadata": {},
   "outputs": [
    {
     "data": {
      "image/png": "[encoded data removed]",
      "text/plain": [
       "<Figure size 432x288 with 1 Axes>"
      ]
     },
     "metadata": {
      "needs_background": "light"
     },
     "output_type": "display_data"
    }
   ],
   "source": [
    "df_2 = df[['total_restaurants_zip', 'Total_Reviews_Zip', 'Median_Household_Income_2019','SizeRank','zillow_sfh_sale_price', 'redfin_sale_price', 'redfin_days_on_market', 'redfin_homes_sold']]\n",
    "bp = sns.boxplot(data=df_2, orient=\"h\", palette=\"Set2\")"
   ]
  },
  {
   "cell_type": "code",
   "execution_count": 5,
   "metadata": {},
   "outputs": [
    {
     "data": {
      "image/png": "[encoded data removed]",
      "text/plain": [
       "<Figure size 432x288 with 1 Axes>"
      ]
     },
     "metadata": {
      "needs_background": "light"
     },
     "output_type": "display_data"
    }
   ],
   "source": [
    "bp_1 = sns.boxplot(data=df[['Total_Reviews_Zip','total_restaurants_zip']], orient=\"h\", palette=\"Set2\")\n",
    "#potential outlier for total_reviews_zip far right"
   ]
  },
  {
   "cell_type": "code",
   "execution_count": 6,
   "metadata": {},
   "outputs": [
    {
     "data": {
      "image/png": "[encoded data removed]",
      "text/plain": [
       "<Figure size 432x288 with 1 Axes>"
      ]
     },
     "metadata": {
      "needs_background": "light"
     },
     "output_type": "display_data"
    }
   ],
   "source": [
    "bp_2 = sns.boxplot(data=df[['SizeRank','Median_Household_Income_2019']], orient=\"h\", palette=\"Set2\")"
   ]
  },
  {
   "cell_type": "code",
   "execution_count": 8,
   "metadata": {},
   "outputs": [
    {
     "data": {
      "image/png": "[encoded data removed]",
      "text/plain": [
       "<Figure size 432x288 with 1 Axes>"
      ]
     },
     "metadata": {
      "needs_background": "light"
     },
     "output_type": "display_data"
    }
   ],
   "source": [
    "bp_3 = sns.boxplot(data=df[['zillow_sfh_sale_price','redfin_sale_price']], orient=\"h\", palette=\"Set2\")\n",
    "#potential outlier for zillow_sfh_sale_price far right"
   ]
  },
  {
   "cell_type": "code",
   "execution_count": 9,
   "metadata": {},
   "outputs": [
    {
     "data": {
      "image/png": "[encoded data removed]",
      "text/plain": [
       "<Figure size 432x288 with 1 Axes>"
      ]
     },
     "metadata": {
      "needs_background": "light"
     },
     "output_type": "display_data"
    }
   ],
   "source": [
    "bp_4 = sns.boxplot(data=df[['redfin_days_on_market','redfin_homes_sold']], orient=\"h\", palette=\"Set2\")"
   ]
  },
  {
   "cell_type": "code",
   "execution_count": 12,
   "metadata": {},
   "outputs": [],
   "source": [
    "#Z-score method\n",
    "#Threshold 4 standard deviation or 99.9% of data values \n",
    "\n",
    "def z_score_method(df, variable_name):\n",
    "    #Takes two parameters: dataframe & variable of interest as string\n",
    "    columns = df.columns\n",
    "    z = np.abs(stats.zscore(df))\n",
    "    threshold = 4\n",
    "    outlier = []\n",
    "    index=0\n",
    "    for item in range(len(columns)):\n",
    "        if columns[item] == variable_name:\n",
    "            index = item\n",
    "    for i, v in enumerate(z[:, index]):\n",
    "        if v > threshold:\n",
    "            outlier.append(i)\n",
    "        else:\n",
    "            continue\n",
    "    return outlier"
   ]
  },
  {
   "cell_type": "code",
   "execution_count": 13,
   "metadata": {},
   "outputs": [
    {
     "name": "stdout",
     "output_type": "stream",
     "text": [
      "[10, 55, 89, 115, 189, 220, 346, 348, 356, 363, 398, 479, 492, 572, 591, 686, 699, 729, 780, 789, 812, 816, 857, 873, 885, 958, 962, 967, 1009, 1050, 1057, 1063, 1110, 1138, 1142, 1167, 1219, 1320, 1334, 1349, 1354, 1414, 1418, 1421, 1436, 1439, 1504, 1534, 1549, 1570, 1573, 1609, 1707, 1725, 1812, 1842, 1937, 1991, 1997, 2024, 2110, 2137, 2188, 2210, 2214, 2253, 2269, 2371, 2386, 2565, 2580, 2602, 2658, 2737, 2739, 2744, 2765, 2875, 2925, 2941, 2971, 2992, 3041, 3046, 3156, 3172, 3195, 3218, 3432, 3451, 3457, 3497, 3539, 3616, 3629, 3695, 3732, 3807, 3879, 3886, 3892, 3893, 4040, 4074, 4132, 4156, 4187, 4188, 4193, 4208, 4216, 4254, 4355, 4358, 4368, 4396, 4409, 4456, 4561, 4641, 4872, 4892, 4899, 4901, 4923, 4982, 4991, 4994, 5058, 5070, 5131, 5152, 5177, 5195, 5215, 5254, 5355, 5368, 5374, 5375, 5529, 5547, 5655, 5660, 5765, 5807, 5922, 5959, 5968, 6025, 6026, 6041, 6113, 6244, 6328, 6333, 6345, 6380, 6399, 6425, 6481, 6561, 6605, 6692, 6710, 6720, 6770, 6830, 6835, 6896, 6904, 6911, 7054, 7118, 7141, 7183, 7191, 7221, 7223, 7253, 7404, 7508, 7615, 7671, 7748, 7859, 7942, 7949, 7993, 8106, 8145, 8147, 8257, 8264, 8282, 8370, 8376, 8381, 8430, 8555, 8599, 8606, 8725, 8756, 8817, 8823, 8826, 8827, 8852, 8854, 8855, 8861, 8940, 9063, 9158, 9198, 9234, 9252, 9301, 9383, 9445, 9472, 9540, 9560, 9569, 9570, 9602, 9623, 9632, 9731, 9740, 9807, 9905, 9997, 10008, 10048, 10132, 10219, 10376, 10400, 10457, 10535, 10618, 10747, 10771, 10791, 10828, 10854, 10916, 10967, 10989, 11015, 11035, 11097, 11103, 11245, 11271, 11426, 11463, 11479, 11552, 11574, 11611, 11617, 11781, 11807, 11819, 11827, 11857, 11863, 11954, 12017, 12019, 12038, 12053, 12069, 12086, 12115, 12165, 12219, 12228, 12341, 12342, 12408, 12427, 12598, 12619, 12656, 12665, 12677, 12745, 12774, 12786, 12838, 13046, 13061, 13110, 13244, 13274, 13291, 13340, 13347, 13481, 13482, 13499, 13537, 13551, 13612, 13619, 13676, 13870, 13882, 13915, 13922, 13968, 14133, 14258, 14300, 14318, 14343, 14411, 14417, 14442, 14449, 14459, 14468, 14507, 14518, 14645, 14671, 14735, 14752, 14814, 14826, 14861, 14867, 14896, 14934, 14940, 15144, 15235, 15267, 15346, 15378, 15513, 15517, 15584, 15596, 15619, 15632, 15642, 15683, 15744, 15901, 15948, 16016, 16019, 16039, 16058, 16071, 16172, 16173, 16185, 16207, 16228, 16239, 16258, 16291, 16375, 16426, 16439, 16543, 16568, 16690, 16700, 16709, 16732, 16739, 16754, 16760, 16767, 16775, 16786, 16789, 16795, 16796, 16806, 16809, 16811, 16823, 16824, 16832, 16837, 16843, 16850, 16853, 16858, 16873, 16880, 16885, 16886, 16888, 16892, 16894, 16898, 16902, 16923, 16927, 16932, 16937, 16940, 16942, 16948, 16949, 16952, 16961, 16962, 16979, 16983, 16987, 16988, 16999, 17000, 17003, 17009, 17013, 17016, 17019, 17023, 17027, 17033, 17039, 17040, 17042, 17049, 17052, 17060, 17062, 17125, 17177, 17219, 17550, 17665, 17789, 17955, 17999, 18209, 18243, 18246, 18249, 18252, 18253, 18254, 18260, 18264, 18301, 18462, 18519, 18688, 18727, 18741, 18856, 18931, 18988, 19012, 19061, 19075, 19227, 19276, 19352, 19471, 19598, 19617, 19710, 19720, 19759, 19792, 19866, 19967, 20128, 20217, 20219, 20515, 20731, 20733, 20787, 20821, 20959, 21114, 21244, 21271, 21443, 21451, 21477, 21492, 21747, 21794, 21925, 22027, 22038, 22235, 22258, 22315, 22394, 22490, 22523, 22803, 22832, 22914, 23073, 23460, 23478, 23638, 23708, 23745, 23903, 23907, 23965, 24065, 24129, 24425, 24439, 24540, 24562, 24649, 24672, 24741, 24896, 24913, 24975, 24985, 25008, 25210, 25213, 25236, 25237, 25285, 25330, 25349, 25412, 25537, 25561, 25639, 25668, 25724, 25733, 25799, 25813, 25814, 25856, 25900, 26121, 26206, 26217, 26451, 26482, 26574, 26681, 26855, 26867, 27069, 27108, 27203, 27234, 27277, 27427, 27467, 27484, 27510, 27815, 27977, 27982, 28054, 28108, 28350, 28386, 28461, 28526, 29042, 29139, 29159, 29228, 29347, 29379, 29417, 29435, 29518, 29528, 29633, 29642, 29784, 29792, 29828, 29963, 30026, 30220, 30224, 30247, 30379, 30448, 30581, 30600, 30636, 30644, 30645, 30669, 30732, 30791, 30929, 31090, 31142, 31228, 31246, 31366, 31449, 31528, 31668, 31706]\n"
     ]
    }
   ],
   "source": [
    "outlier_total_restaurants_zip = z_score_method(df_2, 'total_restaurants_zip')\n",
    "print(outlier_total_restaurants_zip)\n",
    "#examined these records and they all belong to Las Vegas where there is a huge concentration of resturants (772) in this zipcode\n",
    "#valid records so not removing"
   ]
  },
  {
   "cell_type": "code",
   "execution_count": 14,
   "metadata": {},
   "outputs": [
    {
     "name": "stdout",
     "output_type": "stream",
     "text": [
      "[10, 55, 89, 115, 189, 220, 346, 348, 356, 363, 398, 479, 492, 572, 591, 686, 699, 729, 780, 789, 812, 816, 857, 873, 885, 958, 962, 967, 1009, 1050, 1057, 1063, 1110, 1138, 1142, 1167, 1219, 1320, 1334, 1349, 1354, 1414, 1418, 1421, 1436, 1439, 1504, 1534, 1549, 1570, 1573, 1609, 1707, 1725, 1812, 1842, 1937, 1991, 1997, 2024, 2110, 2137, 2188, 2210, 2214, 2253, 2269, 2371, 2386, 2565, 2580, 2602, 2658, 2737, 2739, 2744, 2765, 2875, 2925, 2941, 2971, 2992, 3041, 3046, 3156, 3172, 3195, 3218, 3432, 3451, 3457, 3497, 3539, 3616, 3629, 3695, 3732, 3807, 3879, 3886, 3892, 3893, 4040, 4074, 4132, 4156, 4187, 4188, 4193, 4208, 4216, 4254, 4355, 4358, 4368, 4396, 4409, 4456, 4561, 4641, 4872, 4892, 4899, 4901, 4923, 4982, 4991, 4994, 5058, 5070, 5131, 5152, 5177, 5195, 5215, 5254, 5355, 5368, 5374, 5375, 5529, 5547, 5655, 5660, 5765, 5807, 5922, 5959, 5968, 6025, 6026, 6041, 6113, 6244, 6328, 6333, 6345, 6380, 6399, 6425, 6481, 6561, 6605, 6692, 6710, 6720, 6770, 6830, 6835, 6896, 6904, 6911, 7054, 7118, 7141, 7183, 7191, 7221, 7223, 7253, 7404, 7508, 7615, 7671, 7748, 7859, 7942, 7949, 7993, 8106, 8145, 8147, 8257, 8264, 8282, 8370, 8376, 8381, 8430, 8555, 8599, 8606, 8725, 8756, 8817, 8823, 8826, 8827, 8852, 8854, 8855, 8861, 8940, 9063, 9158, 9198, 9234, 9252, 9301, 9383, 9445, 9472, 9540, 9560, 9569, 9570, 9602, 9623, 9632, 9731, 9740, 9807, 9905, 9997, 10008, 10048, 10132, 10219, 10376, 10400, 10457, 10535, 10618, 10747, 10771, 10791, 10828, 10854, 10916, 10967, 10989, 11015, 11035, 11097, 11103, 11245, 11271, 11426, 11463, 11479, 11552, 11574, 11611, 11617, 11781, 11807, 11819, 11827, 11857, 11863, 11954, 12017, 12019, 12038, 12053, 12069, 12086, 12115, 12165, 12219, 12228, 12341, 12342, 12408, 12427, 12598, 12619, 12656, 12665, 12677, 12745, 12774, 12786, 12838, 13046, 13061, 13110, 13244, 13274, 13291, 13340, 13347, 13481, 13482, 13499, 13537, 13551, 13612, 13619, 13676, 13870, 13882, 13915, 13922, 13968, 14133, 14258, 14300, 14318, 14343, 14411, 14417, 14442, 14449, 14459, 14468, 14507, 14518, 14645, 14671, 14735, 14752, 14814, 14826, 14861, 14867, 14896, 14934, 14940, 15144, 15235, 15267, 15346, 15378, 15513, 15517, 15584, 15596, 15619, 15632, 15642, 15683, 15744, 15901, 15948, 16016, 16019, 16039, 16058, 16071, 16172, 16173, 16185, 16207, 16228, 16239, 16258, 16291, 16375, 16426, 16439, 16543, 16568, 16690, 16700, 16709, 16732, 16739, 16754, 16760, 16767, 16775, 16786, 16789, 16795, 16796, 16806, 16809, 16811, 16823, 16824, 16832, 16837, 16843, 16850, 16853, 16858, 16873, 16880, 16885, 16886, 16888, 16892, 16894, 16898, 16902, 16923, 16927, 16932, 16937, 16940, 16942, 16948, 16949, 16952, 16961, 16962, 16979, 16983, 16987, 16988, 16999, 17000, 17003, 17009, 17013, 17016, 17019, 17023, 17027, 17033, 17039, 17040, 17042, 17049, 17052, 17060, 17062, 17125, 17177, 17219, 17550, 17665, 17789, 17955, 17999, 18209, 18243, 18246, 18249, 18252, 18253, 18254, 18260, 18264, 18301, 18462, 18519, 18688, 18727, 18741, 18856, 18931, 18988, 19012, 19061, 19075, 19227, 19276, 19352, 19471, 19598, 19617, 19710, 19720, 19759, 19792, 19866, 19967, 20128, 20217, 20219, 20515, 20731, 20733, 20787, 20821, 20959, 21114, 21244, 21271, 21443, 21451, 21477, 21492, 21747, 21794, 21925, 22027, 22038, 22235, 22258, 22315, 22394, 22490, 22523, 22803, 22832, 22914, 23073, 23460, 23478, 23638, 23708, 23745, 23903, 23907, 23965, 24065, 24129, 24425, 24439, 24540, 24562, 24649, 24672, 24741, 24896, 24913, 24975, 24985, 25008, 25210, 25213, 25236, 25237, 25285, 25330, 25349, 25412, 25537, 25561, 25639, 25668, 25724, 25733, 25799, 25813, 25814, 25856, 25900, 26121, 26206, 26217, 26451, 26482, 26574, 26681, 26855, 26867, 27069, 27108, 27203, 27234, 27277, 27427, 27467, 27484, 27510, 27815, 27977, 27982, 28054, 28108, 28350, 28386, 28461, 28526, 29042, 29139, 29159, 29228, 29347, 29379, 29417, 29435, 29518, 29528, 29633, 29642, 29784, 29792, 29828, 29963, 30026, 30220, 30224, 30247, 30379, 30448, 30581, 30600, 30636, 30644, 30645, 30669, 30732, 30791, 30929, 31090, 31142, 31228, 31246, 31366, 31449, 31528, 31668, 31706]\n"
     ]
    }
   ],
   "source": [
    "outlier_Total_Reviews_Zip = z_score_method(df_2, 'Total_Reviews_Zip')\n",
    "print(outlier_Total_Reviews_Zip)\n",
    "#similar to above, these all valid records, belonging to Las Vegas"
   ]
  },
  {
   "cell_type": "code",
   "execution_count": 17,
   "metadata": {},
   "outputs": [
    {
     "name": "stdout",
     "output_type": "stream",
     "text": [
      "[11382, 24115, 25832]\n"
     ]
    }
   ],
   "source": [
    "outlier_Median_Household_Income_2019 = z_score_method(df_2, 'Median_Household_Income_2019')\n",
    "print(outlier_Median_Household_Income_2019)\n",
    "#valid records with median househouse income of 96k, 101k, 102K"
   ]
  },
  {
   "cell_type": "code",
   "execution_count": 19,
   "metadata": {},
   "outputs": [
    {
     "name": "stdout",
     "output_type": "stream",
     "text": [
      "[12159, 15681, 17702, 17901, 21915, 25832]\n"
     ]
    }
   ],
   "source": [
    "outlier_zillow_sfh_sale_price = z_score_method(df_2, 'zillow_sfh_sale_price')\n",
    "print(outlier_zillow_sfh_sale_price)\n",
    "#only record 12159 is true outlier that its sfh_sales_price is 2,405,436 where the next highest values are 1Mil and below...\n",
    "#removed record 12159"
   ]
  }
 ],
 "metadata": {
  "kernelspec": {
   "display_name": "Python 3",
   "language": "python",
   "name": "python3"
  },
  "language_info": {
   "codemirror_mode": {
    "name": "ipython",
    "version": 3
   },
   "file_extension": ".py",
   "mimetype": "text/x-python",
   "name": "python",
   "nbconvert_exporter": "python",
   "pygments_lexer": "ipython3",
   "version": "3.8.5"
  }
 },
 "nbformat": 4,
 "nbformat_minor": 4
}
